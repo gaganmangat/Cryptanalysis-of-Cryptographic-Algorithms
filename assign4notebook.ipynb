{
 "cells": [
  {
   "cell_type": "markdown",
   "metadata": {},
   "source": [
    "# PART 1: Initial Analysis"
   ]
  },
  {
   "cell_type": "code",
   "execution_count": 1,
   "metadata": {},
   "outputs": [],
   "source": [
    "ctext = 'lkioogtkjimqhohiqljqkjumffqkmpjh' #text to decrypt"
   ]
  },
  {
   "cell_type": "code",
   "execution_count": 2,
   "metadata": {},
   "outputs": [
    {
     "data": {
      "text/plain": [
       "(Counter({'l': 2,\n",
       "          'k': 4,\n",
       "          'i': 3,\n",
       "          'o': 3,\n",
       "          'g': 1,\n",
       "          't': 1,\n",
       "          'j': 4,\n",
       "          'm': 3,\n",
       "          'q': 4,\n",
       "          'h': 3,\n",
       "          'u': 1,\n",
       "          'f': 2,\n",
       "          'p': 1}),\n",
       " 13)"
      ]
     },
     "execution_count": 2,
     "metadata": {},
     "output_type": "execute_result"
    }
   ],
   "source": [
    "from collections import Counter\n",
    "count = Counter(ctext)\n",
    "count, len(count)"
   ]
  },
  {
   "cell_type": "code",
   "execution_count": 3,
   "metadata": {},
   "outputs": [
    {
     "data": {
      "text/plain": [
       "['f', 'g', 'h', 'i', 'j', 'k', 'l', 'm', 'o', 'p', 'q', 't', 'u']"
      ]
     },
     "execution_count": 3,
     "metadata": {},
     "output_type": "execute_result"
    }
   ],
   "source": [
    "sorted(count.keys())"
   ]
  },
  {
   "cell_type": "code",
   "execution_count": 4,
   "metadata": {},
   "outputs": [
    {
     "data": {
      "text/plain": [
       "(['f',\n",
       "  'g',\n",
       "  'h',\n",
       "  'i',\n",
       "  'j',\n",
       "  'k',\n",
       "  'l',\n",
       "  'm',\n",
       "  'n',\n",
       "  'o',\n",
       "  'p',\n",
       "  'q',\n",
       "  'r',\n",
       "  's',\n",
       "  't',\n",
       "  'u'],\n",
       " 16)"
      ]
     },
     "execution_count": 4,
     "metadata": {},
     "output_type": "execute_result"
    }
   ],
   "source": [
    "#generate the 16 alphabets present from f-u \n",
    "alpha = [chr(x) for x in range(ord('f'), ord('u') + 1)]\n",
    "alpha, len(alpha) "
   ]
  },
  {
   "cell_type": "code",
   "execution_count": 5,
   "metadata": {},
   "outputs": [
    {
     "data": {
      "text/plain": [
       "{'f': '0000',\n",
       " 'g': '0001',\n",
       " 'h': '0010',\n",
       " 'i': '0011',\n",
       " 'j': '0100',\n",
       " 'k': '0101',\n",
       " 'l': '0110',\n",
       " 'm': '0111',\n",
       " 'n': '1000',\n",
       " 'o': '1001',\n",
       " 'p': '1010',\n",
       " 'q': '1011',\n",
       " 'r': '1100',\n",
       " 's': '1101',\n",
       " 't': '1110',\n",
       " 'u': '1111'}"
      ]
     },
     "execution_count": 5,
     "metadata": {},
     "output_type": "execute_result"
    }
   ],
   "source": [
    "#generate mapping of alphabets to binary numbers\n",
    "alphamap = {}\n",
    "for i in range(len(alpha)):\n",
    "    alphamap[alpha[i]] = bin(i)[2:].zfill(4)\n",
    "alphamap    "
   ]
  },
  {
   "cell_type": "markdown",
   "metadata": {},
   "source": [
    "To break 6-round DES, we need 4-round characteristic. Our 4 round characteristic is \n",
    "(405C0000,04000000,1/4 ; 04000000,00540000,5/128 ; 00540000, 00000000,1; 00000000, 00540000, 5/128, 00540000,04000000) "
   ]
  },
  {
   "cell_type": "code",
   "execution_count": 6,
   "metadata": {},
   "outputs": [
    {
     "data": {
      "text/plain": [
       "0.0003814697265625"
      ]
     },
     "execution_count": 6,
     "metadata": {},
     "output_type": "execute_result"
    }
   ],
   "source": [
    "#Overall probability of characteristic\n",
    "p = (1/4) * (5/128) * (1) * (5/128)\n",
    "p"
   ]
  },
  {
   "cell_type": "code",
   "execution_count": 7,
   "metadata": {},
   "outputs": [
    {
     "data": {
      "text/plain": [
       "'0100000001011100000000000000000000000100000000000000000000000000'"
      ]
     },
     "execution_count": 7,
     "metadata": {},
     "output_type": "execute_result"
    }
   ],
   "source": [
    "#the input xor after initial permutation\n",
    "input_2 = bin(int('405C000004000000', 16))[2:].zfill(64)\n",
    "input_2"
   ]
  },
  {
   "cell_type": "code",
   "execution_count": 8,
   "metadata": {},
   "outputs": [],
   "source": [
    "#INITIAL PERMUTATION (IP) \n",
    "#8x8\n",
    "IP = [\n",
    "  58,50,42, 34,26,18,10,2,\n",
    "  60,52,44,36,28,20,12,4,\n",
    "  62,54, 46, 38, 30, 22, 14,6,\n",
    "  64, 56, 48, 40,32,24, 16, 8,\n",
    "  57, 49, 41, 33,25,17, 9,1,\n",
    "  59, 51,43,35,27,19,11,3,\n",
    "  61,53,45,37,29,21,13, 5,\n",
    "  63,55, 47,39,31,23,15,7\n",
    "    ]\n",
    "\n",
    "#FINAL PERMUTATION (FP)\n",
    "#8x8\n",
    "FP = [\n",
    "    40,8,48,16,56,24,64,32,\n",
    "    39,7,47,15,55,23,63,31,\n",
    "    38,6,46,14,54,22,62,30,\n",
    "    37,5,45,13,53,21,61,29,\n",
    "    36,4,44,12,52,20,60,28,\n",
    "    35,3,43,11,51,19,59,27,\n",
    "    34,2,42,10,50,18,58,26,\n",
    "    33,1,41,9,49,17,57,25,  \n",
    "]"
   ]
  },
  {
   "cell_type": "code",
   "execution_count": 9,
   "metadata": {},
   "outputs": [
    {
     "data": {
      "text/plain": [
       "'0000000000000000100100000001000000010000000000000101000000000000'"
      ]
     },
     "execution_count": 9,
     "metadata": {},
     "output_type": "execute_result"
    }
   ],
   "source": [
    "#mixing of input_2 according to FP (reverse of IP)\n",
    "input_1 = ''\n",
    "for i in range(len(input_2)):\n",
    "    input_1 += input_2[FP[i]-1]\n",
    "input_1    "
   ]
  },
  {
   "cell_type": "code",
   "execution_count": 10,
   "metadata": {},
   "outputs": [
    {
     "data": {
      "text/plain": [
       "'0000901010005000'"
      ]
     },
     "execution_count": 10,
     "metadata": {},
     "output_type": "execute_result"
    }
   ],
   "source": [
    "hex(int(input_1, 2))[2:].zfill(16)"
   ]
  },
  {
   "cell_type": "markdown",
   "metadata": {},
   "source": [
    "# PART 2 : Generating random plaintext pairs and finding corresponding ciphertext pairs using script"
   ]
  },
  {
   "cell_type": "code",
   "execution_count": null,
   "metadata": {},
   "outputs": [],
   "source": [
    "#using the script and commands mentioned in analysis."
   ]
  },
  {
   "cell_type": "markdown",
   "metadata": {},
   "source": [
    "#  PART 3: Get input XOR to S-boxes in round 6. (beta xor beta')"
   ]
  },
  {
   "cell_type": "code",
   "execution_count": 11,
   "metadata": {},
   "outputs": [],
   "source": [
    "n1_list = [] #number1 list of outputs (after rev FP (IP) and swapping) for input1\n",
    "n2_list = [] #number2 list of outputs (after rev FP (IP) and swapping) for input2\n",
    "#input1 xor input2 = 0000 9010 1000 5000\n",
    "with open('ciphertext.txt', 'r') as fp:\n",
    "    flag = 0\n",
    "    for line in fp:\n",
    "        if flag == 0:\n",
    "            temp = ''\n",
    "            fop = line.strip() #final output\n",
    "            for j in range(64):\n",
    "                temp += fop[IP[j]-1]\n",
    "            temp2 = ''\n",
    "            temp2 += temp[32:]\n",
    "            temp2 += temp[:32]\n",
    "            n1_list.append(temp2)\n",
    "            flag = 1\n",
    "        else:\n",
    "            temp = ''\n",
    "            fop = line.strip() #final output\n",
    "            for j in range(64):\n",
    "                temp += fop[IP[j]-1]\n",
    "            temp2 = ''\n",
    "            temp2 += temp[32:]\n",
    "            temp2 += temp[:32]\n",
    "            n2_list.append(temp2)\n",
    "            flag = 0"
   ]
  },
  {
   "cell_type": "code",
   "execution_count": 12,
   "metadata": {},
   "outputs": [
    {
     "data": {
      "text/plain": [
       "(100000, 100000)"
      ]
     },
     "execution_count": 12,
     "metadata": {},
     "output_type": "execute_result"
    }
   ],
   "source": [
    "len(n1_list), len(n2_list)"
   ]
  },
  {
   "cell_type": "code",
   "execution_count": 13,
   "metadata": {},
   "outputs": [],
   "source": [
    "n1_l4_list = []\n",
    "n1_r4_list = []\n",
    "n2_l4_list = []\n",
    "n2_r4_list = []\n",
    "\n",
    "for i in range(len(n1_list)):\n",
    "    n1_l4_list.append(n1_list[i][:32])\n",
    "    n2_l4_list.append(n2_list[i][:32])\n",
    "    \n",
    "    n1_r4_list.append(n1_list[i][32:])\n",
    "    n2_r4_list.append(n2_list[i][32:])"
   ]
  },
  {
   "cell_type": "code",
   "execution_count": 14,
   "metadata": {},
   "outputs": [],
   "source": [
    "#Expansion table (8x6)\n",
    "E = [\n",
    "  32, 1, 2, 3, 4, 5,\n",
    "  4, 5,6, 7, 8, 9,\n",
    "  8, 9, 10, 11, 12, 13,\n",
    "  12, 13, 14, 15, 16, 17,\n",
    "  16, 17, 18, 19, 20, 21,\n",
    "  20, 21, 22, 23, 24, 25,\n",
    "  24, 25, 26, 27, 28, 29,\n",
    "  28, 29, 30, 31, 32, 1\n",
    "]"
   ]
  },
  {
   "cell_type": "code",
   "execution_count": 15,
   "metadata": {},
   "outputs": [],
   "source": [
    "alpha1_list = []\n",
    "alpha2_list = []\n",
    "#alpha1 and alpha2 are values just after expansion in round 6\n",
    "\n",
    "for i in range(len(n1_list)):\n",
    "    temp = ''\n",
    "    for j in range(48):\n",
    "        temp += n1_l4_list[i][E[j]-1]\n",
    "    alpha1_list.append(temp)\n",
    "    \n",
    "    temp = ''\n",
    "    for j in range(48):\n",
    "        temp += n2_l4_list[i][E[j]-1]\n",
    "    alpha2_list.append(temp)"
   ]
  },
  {
   "cell_type": "code",
   "execution_count": 16,
   "metadata": {},
   "outputs": [],
   "source": [
    "with open('alpha1.txt', 'w') as fp:\n",
    "    for i in alpha1_list:\n",
    "        fp.write(i + '\\n')"
   ]
  },
  {
   "cell_type": "code",
   "execution_count": 17,
   "metadata": {},
   "outputs": [],
   "source": [
    "#find alpha1 xor alpha2 = beta1 xor beta2\n",
    "#beta1 and beta2 are inputs to the S-boxes in round 6.\n",
    "\n",
    "betaxor_list = [] #xor values for beta1 and beta2 \n",
    "\n",
    "for i in range(len(alpha1_list)):\n",
    "    betaxor_list.append(bin(int(alpha1_list[i], 2) ^ int(alpha2_list[i], 2))[2:].zfill(48))      "
   ]
  },
  {
   "cell_type": "code",
   "execution_count": 18,
   "metadata": {},
   "outputs": [],
   "source": [
    "with open('betaxor.txt', 'w') as fp:\n",
    "    for i in betaxor_list:\n",
    "        fp.write(i + '\\n')"
   ]
  },
  {
   "cell_type": "markdown",
   "metadata": {},
   "source": [
    "# PART 4: Get output XOR after S-boxes in round 6 (with probability p) (gamma xor gamma')"
   ]
  },
  {
   "cell_type": "code",
   "execution_count": 19,
   "metadata": {},
   "outputs": [],
   "source": [
    "INV_P = [\n",
    "    9, 17, 23, 31,\n",
    "    13, 28, 2, 18,\n",
    "    24, 16, 30, 6,\n",
    "    26, 20, 10, 1,\n",
    "    8, 14, 25, 3,\n",
    "    4, 29, 11, 19,\n",
    "    32, 12, 22, 7,\n",
    "    5, 27, 15, 21,\n",
    "]"
   ]
  },
  {
   "cell_type": "code",
   "execution_count": 20,
   "metadata": {},
   "outputs": [],
   "source": [
    "#n1_r4_list and n2_r4_list have r4 values of round 6. XOR them: (r4 xor r4') xor 0400 0000 (which is given with probability p)\n",
    "gammaxor_list = []\n",
    "\n",
    "for i in range(len(n1_r4_list)):\n",
    "    pop_xor = bin(int(n1_r4_list[i], 2) ^ int(n2_r4_list[i], 2) ^ int('04000000', 16))[2:].zfill(32) #P-box output xor\n",
    "    temp = ''    \n",
    "    for j in range(32):\n",
    "        temp += pop_xor[INV_P[j]-1]\n",
    "    gammaxor_list.append(temp)    "
   ]
  },
  {
   "cell_type": "code",
   "execution_count": 21,
   "metadata": {},
   "outputs": [],
   "source": [
    "with open('gammaxor.txt', 'w') as fp:\n",
    "    for i in gammaxor_list:\n",
    "        fp.write(i + '\\n')"
   ]
  },
  {
   "cell_type": "markdown",
   "metadata": {},
   "source": [
    "# PART 5: Find all possible pairs (beta,beta'), the set Xi and the set Ki"
   ]
  },
  {
   "cell_type": "code",
   "execution_count": 22,
   "metadata": {},
   "outputs": [],
   "source": [
    "S = [\n",
    "    [14, 4, 13, 1, 2, 15, 11, 8, 3 , 10, 6, 12, 5, 9, 0, 7,\n",
    "    0, 15, 7, 4, 14, 2, 13, 1, 10, 6, 12, 11, 9, 5, 3, 8,\n",
    "    4, 1 , 14, 8, 13, 6, 2, 11, 15, 12, 9, 7,3, 10, 5, 0,\n",
    "    15, 12, 8,2,4, 9, 1,7 , 5, 11, 3, 14, 10, 0, 6, 13] ,\n",
    "\n",
    "    [15, 1, 8, 14, 6, 11, 3, 4, 9, 7, 2, 13, 12, 0,5, 10,\n",
    "    3, 13, 4, 7, 15, 2, 8, 14, 12, 0, 1, 10, 6, 9, 11, 5,\n",
    "    0, 14, 7, 11, 10, 4, 13, 1, 5, 8,12, 6, 9, 3, 2, 15,\n",
    "    13, 8, 10, 1, 3, 15, 4, 2,11,6, 7, 12, 0,5, 14, 9],\n",
    "\n",
    "    [10, 0, 9,14,6,3,15,5, 1, 13, 12, 7, 11, 4,2,8,\n",
    "    13, 7, 0, 9, 3, 4, 6, 10, 2, 8, 5, 14, 12, 11, 15, 1,\n",
    "    13, 6, 4, 9, 8, 15, 3, 0, 11, 1, 2, 12,5, 10, 14, 7,\n",
    "    1, 10, 13, 0, 6, 9, 8, 7, 4, 15, 14, 3, 11, 5, 2, 12],\n",
    "\n",
    "    [7, 13, 14, 3, 0, 6, 9, 10, 1, 2, 8, 5, 11, 12, 4, 15,\n",
    "    13, 8, 11, 5, 6, 15, 0, 3, 4, 7, 2, 12, 1, 10, 14, 9,\n",
    "    10, 6, 9, 0, 12, 11, 7, 13, 15, 1 , 3, 14, 5, 2, 8, 4,\n",
    "    3, 15, 0, 6, 10, 1, 13, 8, 9, 4, 5, 11, 12, 7, 2, 14],\n",
    "\n",
    "    [2, 12, 4, 1, 7, 10, 11, 6, 8, 5, 3, 15, 13, 0, 14, 9,\n",
    "    14, 11,2, 12, 4, 7, 13, 1, 5, 0, 15, 10, 3, 9, 8, 6,\n",
    "    4, 2, 1, 11, 10, 13, 7, 8, 15, 9, 12, 5, 6, 3, 0, 14,\n",
    "    11, 8, 12, 7, 1, 14, 2, 13, 6, 15, 0, 9, 10, 4, 5, 3],\n",
    "\n",
    "    [12, 1, 10, 15, 9, 2, 6,8, 0, 13, 3, 4, 14, 7, 5, 11,\n",
    "    10, 15, 4, 2, 7, 12, 9, 5, 6, 1, 13, 14, 0, 11, 3, 8,\n",
    "    9, 14, 15, 5, 2,8, 12, 3, 7, 0, 4, 10, 1, 13, 11, 6,\n",
    "    4, 3, 2, 12, 9, 5, 15, 10, 11, 14, 1, 7, 6, 0, 8, 13],\n",
    "\n",
    "    [4, 11, 2, 14, 15, 0, 8, 13, 3, 12, 9, 7, 5, 10, 6, 1,\n",
    "    13, 0, 11, 7, 4, 9, 1, 10, 14, 3, 5, 12, 2, 15, 8, 6,\n",
    "    1, 4, 11, 13, 12, 3, 7, 14, 10, 15, 6, 8, 0, 5, 9, 2,\n",
    "    6, 11, 13, 8, 1, 4, 10, 7, 9, 5, 0, 15, 14, 2, 3, 12],\n",
    "\n",
    "    [13, 2, 8, 4, 6, 15, 11, 1, 10, 9, 3, 14, 5, 0, 12,7,\n",
    "    1, 15, 13, 8, 10, 3, 7, 4, 12, 5, 6, 11, 0, 14, 9, 2,\n",
    "    7, 11, 4, 1, 9, 12, 14, 2, 0, 6, 10, 13, 15, 3, 5, 8,\n",
    "    2, 1, 14, 7, 4, 10, 8, 13, 15, 12, 9, 0, 3, 5, 6, 11]\n",
    "  ]\n",
    "  "
   ]
  },
  {
   "cell_type": "code",
   "execution_count": 23,
   "metadata": {},
   "outputs": [],
   "source": [
    "rows, cols = (8, 64) \n",
    "key_count = [[0 for i in range(cols)] for j in range(rows)] "
   ]
  },
  {
   "cell_type": "code",
   "execution_count": 24,
   "metadata": {},
   "outputs": [],
   "source": [
    "#we know the values (beta1 xor beta2): 48bits, (gamma1 xor gamma2):32bits\n",
    "#do the next step for 6-bit pairs, representing each S-box \n",
    "#find the pairs (beta, beta') such that beta xor beta' = beta1 xor beta2 AND s(beta) xor s(beta') = gamma1 xor gamma2\n",
    "\n",
    "for ind in range(100000):\n",
    "    alpha = alpha1_list[ind]\n",
    "    beta_xor = betaxor_list[ind]\n",
    "    gamma_xor = gammaxor_list[ind]\n",
    "\n",
    "    for box in range(8):\n",
    "        temp_a = alpha[6*box:6*box+6]\n",
    "        temp_g = gamma_xor[4*box:4*box+4]\n",
    "        temp_b = beta_xor[6*box:6*box+6]\n",
    "    \n",
    "        for j in range(64):\n",
    "            b1 = bin(j)[2:].zfill(6)\n",
    "            b2 = bin(j ^ int(temp_b, 2))[2:].zfill(6)\n",
    "            \n",
    "            row = int(b1[0] + b1[-1], 2)\n",
    "            col = int(b1[1:-1], 2)\n",
    "            gamma = bin(S[box][row*16 + col])[2:].zfill(6)\n",
    "\n",
    "            row = int(b2[0] + b2[-1], 2)\n",
    "            col = int(b2[1:-1], 2)\n",
    "            gammaprime = bin(S[box][row*16 + col])[2:].zfill(6)\n",
    "\n",
    "            if ((int(gamma, 2) ^ int(gammaprime, 2)) == int(temp_g, 2)): \n",
    "                key_count[box][int(b1, 2) ^ int(temp_a, 2)] += 1"
   ]
  },
  {
   "cell_type": "code",
   "execution_count": 25,
   "metadata": {},
   "outputs": [
    {
     "name": "stdout",
     "output_type": "stream",
     "text": [
      "8311 6448.25\n",
      "8733 6482.5\n",
      "6476 6254.8125\n",
      "6454 6289.09375\n",
      "9393 6569.6875\n",
      "8440 6483.53125\n",
      "8426 6482.9375\n",
      "8579 6567.1875\n"
     ]
    }
   ],
   "source": [
    "for i in range(8):\n",
    "    print(max(key_count[i]), sum(key_count[i])/len(key_count[i])) "
   ]
  },
  {
   "cell_type": "code",
   "execution_count": 26,
   "metadata": {},
   "outputs": [],
   "source": [
    "key = [-1] * 8\n",
    "for i in range(8):\n",
    "    max_ind, max_val = -1, 0\n",
    "    for j in range(64):\n",
    "        if key_count[i][j] > max_val:\n",
    "            max_val = key_count[i][j]\n",
    "            max_ind = j\n",
    "    key[i] = max_ind        "
   ]
  },
  {
   "cell_type": "code",
   "execution_count": 27,
   "metadata": {},
   "outputs": [
    {
     "data": {
      "text/plain": [
       "[45, 59, -1, -1, 44, 57, 31, 52]"
      ]
     },
     "execution_count": 27,
     "metadata": {},
     "output_type": "execute_result"
    }
   ],
   "source": [
    "key[2], key[3] = -1, -1\n",
    "key"
   ]
  },
  {
   "cell_type": "markdown",
   "metadata": {},
   "source": [
    "# PART 6: Finding the key (Brute Force and Decryption)"
   ]
  },
  {
   "cell_type": "code",
   "execution_count": 28,
   "metadata": {},
   "outputs": [],
   "source": [
    "#k6 is found using the program deskey6.cpp"
   ]
  },
  {
   "cell_type": "code",
   "execution_count": 29,
   "metadata": {},
   "outputs": [],
   "source": [
    "k6 =[24, 27, 21, 6, 11, 15, \n",
    "    13, 10, 25, 16, 3, 20, \n",
    "    5, 1, 22, 14, 8, 18, \n",
    "    26, 17, 9, 2, 23, 12, \n",
    "    51, 34, 41, 47, 29, 37,\n",
    "    40, 50, 33, 55, 43, 30, \n",
    "    54, 31, 49, 38, 44, 35, \n",
    "    56, 52, 32, 46, 39, 42 ]"
   ]
  },
  {
   "cell_type": "code",
   "execution_count": 30,
   "metadata": {},
   "outputs": [
    {
     "data": {
      "text/plain": [
       "'xx1xx1xxx10x1x10xxx11xx11x0x0110101x01011001x11x1111x001'"
      ]
     },
     "execution_count": 30,
     "metadata": {},
     "output_type": "execute_result"
    }
   ],
   "source": [
    "#mapping the key according to the above permutation\n",
    "#k6,1 bits are mapped to bit positions 24, 27, 21, 6, 11, 15 and so on for every k6,i\n",
    "keyfinal = ['x'] * 56\n",
    "\n",
    "for i in range(8):\n",
    "    if (i == 2 or i == 3):\n",
    "        continue\n",
    "    bkey = bin(key[i])[2:].zfill(6)\n",
    "    #print(bkey)\n",
    "    ind = 0\n",
    "    for j in range(i*6, i*6 + 6):\n",
    "        keyfinal[k6[j]-1] = bkey[ind]\n",
    "        ind += 1\n",
    "keyfinal\n",
    "#fkey is the final key with some bits missing\n",
    "fkey = ''\n",
    "for i in keyfinal:\n",
    "    fkey += i\n",
    "fkey    "
   ]
  },
  {
   "cell_type": "code",
   "execution_count": 31,
   "metadata": {},
   "outputs": [],
   "source": [
    "with open('possiblekeys.txt', 'w') as fp:\n",
    "    for i in range(pow(2, 20)):\n",
    "        bin20 = bin(i)[2:].zfill(20)\n",
    "        #print(bin20)\n",
    "        ind = 0\n",
    "        xkey = keyfinal.copy()\n",
    "        for j in range(56):\n",
    "            if (keyfinal[j] == 'x'):\n",
    "                xkey[j] = bin20[ind]\n",
    "                ind += 1\n",
    "        ffkey = ''\n",
    "        for j in range(len(xkey)):\n",
    "            ffkey += xkey[j]\n",
    "        fp.write(ffkey + '\\n')    "
   ]
  },
  {
   "cell_type": "code",
   "execution_count": 32,
   "metadata": {},
   "outputs": [
    {
     "data": {
      "text/plain": [
       "[188, 138, 226, 123, 17, 150, 78, 176]"
      ]
     },
     "execution_count": 32,
     "metadata": {},
     "output_type": "execute_result"
    }
   ],
   "source": [
    "ip = 'ffffffffffffffff'\n",
    "op = 'qrnpthmqggoljtqf'\n",
    "ipval8 = [0, 0, 0, 0, 0, 0, 0, 0]\n",
    "opval8 = []\n",
    "\n",
    "for i in range(0, len(op), 2):\n",
    "    opval8.append(int(alphamap[op[i]] + alphamap[op[i+1]], 2))\n",
    "    \n",
    "opval8    "
   ]
  },
  {
   "cell_type": "code",
   "execution_count": 33,
   "metadata": {},
   "outputs": [],
   "source": [
    "#find key using des_bruteforce.cpp"
   ]
  },
  {
   "cell_type": "code",
   "execution_count": 34,
   "metadata": {},
   "outputs": [],
   "source": [
    "key = '01101110010111100111101110000110101001011001011011111001'"
   ]
  },
  {
   "cell_type": "code",
   "execution_count": 35,
   "metadata": {},
   "outputs": [
    {
     "data": {
      "text/plain": [
       "('lkioogtkjimqhohiqljqkjumffqkmpjh',\n",
       " [101, 57, 145, 229, 67, 123, 41, 35, 182, 75, 84, 247, 0, 181, 122, 66])"
      ]
     },
     "execution_count": 35,
     "metadata": {},
     "output_type": "execute_result"
    }
   ],
   "source": [
    "ctext8 = []\n",
    "for i in range(0, len(ctext), 2):\n",
    "    ctext8.append(int(alphamap[ctext[i]] + alphamap[ctext[i+1]], 2))\n",
    "ctext, ctext8"
   ]
  },
  {
   "cell_type": "code",
   "execution_count": 36,
   "metadata": {},
   "outputs": [],
   "source": [
    "#run the program des_decrypt.cpp twice to get the answer"
   ]
  },
  {
   "cell_type": "code",
   "execution_count": 37,
   "metadata": {},
   "outputs": [],
   "source": [
    "answer = [116, 114, 115, 121, 100, 119, 102, 112, 105, 113, 48, 48, 48, 48, 48, 48]"
   ]
  },
  {
   "cell_type": "code",
   "execution_count": 38,
   "metadata": {},
   "outputs": [
    {
     "name": "stdout",
     "output_type": "stream",
     "text": [
      "trsydwfpiq000000"
     ]
    }
   ],
   "source": [
    "#convert from ASCII code to character to get password\n",
    "for i in answer:\n",
    "    print(chr(i), end=\"\")"
   ]
  }
 ],
 "metadata": {
  "kernelspec": {
   "display_name": "Python 3",
   "language": "python",
   "name": "python3"
  },
  "language_info": {
   "codemirror_mode": {
    "name": "ipython",
    "version": 3
   },
   "file_extension": ".py",
   "mimetype": "text/x-python",
   "name": "python",
   "nbconvert_exporter": "python",
   "pygments_lexer": "ipython3",
   "version": "3.7.0"
  }
 },
 "nbformat": 4,
 "nbformat_minor": 4
}
